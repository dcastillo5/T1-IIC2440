{
  "nbformat": 4,
  "nbformat_minor": 0,
  "metadata": {
    "colab": {
      "provenance": []
    },
    "kernelspec": {
      "name": "python3",
      "display_name": "Python 3"
    },
    "language_info": {
      "name": "python"
    }
  },
  "cells": [
    {
      "cell_type": "code",
      "execution_count": 84,
      "metadata": {
        "id": "f1_8MdUZH8nA"
      },
      "outputs": [],
      "source": [
        "from IPython.display import clear_output\n",
        "# Descarga de csv\n",
        "!wget https://www.dropbox.com/s/nb2cnlgjx93es92/tweets_2022_abril_junio.csv.zip\n",
        "!unzip tweets_2022_abril_junio.csv.zip\n",
        "clear_output()\n",
        "\n",
        "!pip3 uninstall spacy\n",
        "!pip3 install spacy\n",
        "\n",
        "!pip3 uninstall spacymoji\n",
        "!pip3 install spacymoji\n",
        "\n",
        "!spacy download es_core_news_lg\n",
        "!spacymoji download nlp_en\n",
        "clear_output()"
      ]
    },
    {
      "cell_type": "code",
      "source": [
        "import numpy as np\n",
        "import pandas as pd\n",
        "import itertools\n",
        "import re\n",
        "import spacy\n",
        "from spacymoji import Emoji\n",
        "from tqdm import tqdm\n"
      ],
      "metadata": {
        "id": "BzHslnogH_IZ"
      },
      "execution_count": 85,
      "outputs": []
    },
    {
      "cell_type": "markdown",
      "source": [
        "### Objetivo\n",
        "Encontrar personas que escribar tweets de manera similar"
      ],
      "metadata": {
        "id": "mn2hdrKpkv4k"
      }
    },
    {
      "cell_type": "code",
      "source": [
        "clean_tweets = pd.read_csv('tweets_2022_abril_junio.csv') \n",
        "print(\"Numero total de tweets\", clean_tweets.shape)"
      ],
      "metadata": {
        "colab": {
          "base_uri": "https://localhost:8080/"
        },
        "id": "n6Er_BS4IDQy",
        "outputId": "e8c1c15d-9fd0-491a-f7c8-80cf0472f8f0"
      },
      "execution_count": 86,
      "outputs": [
        {
          "output_type": "stream",
          "name": "stdout",
          "text": [
            "Numero total de tweets (4594980, 6)\n"
          ]
        }
      ]
    },
    {
      "cell_type": "markdown",
      "source": [
        "# 1. Prepocesamiento de datos"
      ],
      "metadata": {
        "id": "-H234E-RuwQP"
      }
    },
    {
      "cell_type": "code",
      "source": [
        "# Eliminar tweets duplicados de un mismo usuario\n",
        "clean_tweets = clean_tweets.drop_duplicates(subset=['screen_name', 'text'], keep='last')\n",
        "# Eliminar ids duplicados\n",
        "clean_tweets = clean_tweets.drop_duplicates(subset=['id'], keep='last')\n",
        "# Eliminar RTs\n",
        "clean_tweets = clean_tweets[clean_tweets['text'].str.startswith(\"RT \") == False]\n",
        "\n",
        "clean_tweets = clean_tweets.set_index(['id'])\n",
        "clean_tweets = clean_tweets[['screen_name', 'text']]\n",
        "clean_tweets = clean_tweets[clean_tweets['text'].str.startswith(\"RT \") == False]\n",
        "print(\"Numero total de tweets a procesar\", clean_tweets.shape)"
      ],
      "metadata": {
        "colab": {
          "base_uri": "https://localhost:8080/"
        },
        "id": "cNiUEtEWIEl4",
        "outputId": "461d74a9-4085-4047-d67e-5baab3b39240"
      },
      "execution_count": 87,
      "outputs": [
        {
          "output_type": "stream",
          "name": "stdout",
          "text": [
            "Numero total de tweets a procesar (1250610, 2)\n"
          ]
        }
      ]
    },
    {
      "cell_type": "code",
      "source": [
        "# Tamaño shingling\n",
        "k = 10"
      ],
      "metadata": {
        "id": "fabEvBb2ISRT"
      },
      "execution_count": 88,
      "outputs": []
    },
    {
      "cell_type": "code",
      "source": [
        "def format_tweets(text):\n",
        "    # Tweets en minuscula\n",
        "    # Eliminar #, @, links, risa\n",
        "    # Descartas tweets con menos de k caracteres\n",
        "    text = text.lower()\n",
        "    text = re.sub(r'#\\w+\\s?|@\\w+\\s?|htps:/t.co/\\S+|https://t.co/\\S+|j\\w*j\\w*j\\w*|a*ja+j[ja]*|lo+l|\\n', '', text)\n",
        "    if len(text) < k + 1:\n",
        "        return ''\n",
        "    return text"
      ],
      "metadata": {
        "id": "ONvW2C04IG55"
      },
      "execution_count": 89,
      "outputs": []
    },
    {
      "cell_type": "code",
      "source": [
        "clean_tweets[\"preprocess\"] = clean_tweets[['text']].apply(lambda x: format_tweets((x.values[0])), axis=1,)\n",
        "clean_tweets = clean_tweets[clean_tweets['preprocess'] != \"\" ]\n",
        "\n",
        "# Eliminar tweets duplicados de un mismo usuario\n",
        "clean_tweets = clean_tweets.drop_duplicates(subset=['screen_name', 'preprocess'], keep='last')\n",
        "print(\"Numero total de tweets a procesar\", clean_tweets.shape)"
      ],
      "metadata": {
        "colab": {
          "base_uri": "https://localhost:8080/"
        },
        "id": "mDxYF9CNIIMV",
        "outputId": "ab4e4881-307f-40c6-9e62-64b3c3b4ce20"
      },
      "execution_count": 90,
      "outputs": [
        {
          "output_type": "stream",
          "name": "stdout",
          "text": [
            "Numero total de tweets a procesar (980092, 3)\n"
          ]
        }
      ]
    },
    {
      "cell_type": "markdown",
      "source": [
        "# 2. Funciones auxiliares"
      ],
      "metadata": {
        "id": "0J1LL_OFh-11"
      }
    },
    {
      "cell_type": "code",
      "source": [
        "def shingling(text, k = 3):\n",
        "    shingles = set()\n",
        "    total = 0\n",
        "    for i in range(len(text) - k):\n",
        "        shingle = text[i:i+k]\n",
        "        shingles.add(hash(shingle))\n",
        "        total += 1\n",
        "    return shingles, total"
      ],
      "metadata": {
        "id": "QdEKJutjIT08"
      },
      "execution_count": 91,
      "outputs": []
    },
    {
      "cell_type": "code",
      "source": [
        "import random\n",
        "import collections\n",
        "\n",
        "def crear_hash(a, b, p, n):\n",
        "    def f(x):\n",
        "        return ((a * x + b) % p) % n\n",
        "    return f\n",
        "\n",
        "h = []\n",
        "n = 45991841 # Estimado apriori. Valor mayor al numero total de Shingles\n",
        "p = 45991889 # Primo mas cercano a n\n",
        "num_hash = 20 # Numero de funciones de hash\n",
        "for i in range(num_hash):\n",
        "    a = random.randint(1, p - 1)\n",
        "    b = random.randint(1, p - 1)\n",
        "    h.append(crear_hash(a, b, p, n))"
      ],
      "metadata": {
        "id": "Zvp5NVzFIWIn"
      },
      "execution_count": 92,
      "outputs": []
    },
    {
      "cell_type": "markdown",
      "source": [
        "# 3. MinHash"
      ],
      "metadata": {
        "id": "AIB9A-Q5iHet"
      }
    },
    {
      "cell_type": "code",
      "source": [
        "import collections\n",
        "b = 5  # número de bandas\n",
        "buckets = collections.defaultdict(list)\n",
        "# Almacena todas las firmas MinHash\n",
        "signatures = {} \n",
        "\n",
        "# Para cada tweet\n",
        "for tweet_id in tqdm(clean_tweets.index):\n",
        "    # Se crean los shingles y se calculan las firmas minhash\n",
        "    shingleSet, total = shingling(clean_tweets.loc[tweet_id]['preprocess'], k)\n",
        "    signature = []\n",
        "    for i in range(num_hash):\n",
        "        # Se obtiene el minhash para cada shingle\n",
        "        minhashCode = p + 1\n",
        "        for shi in shingleSet:\n",
        "            hashCode = h[i](shi)\n",
        "            if hashCode < minhashCode:\n",
        "                minhashCode = hashCode\n",
        "        # Se almacenan posibles candidatos\n",
        "        signature.append(minhashCode)\n",
        "        buckets[minhashCode].append(tweet_id)\n",
        "\n",
        "    # Se almacenan todas las firmas MinHash\n",
        "    signatures[tweet_id] = signature "
      ],
      "metadata": {
        "colab": {
          "base_uri": "https://localhost:8080/"
        },
        "id": "jEYF0O-AL9FW",
        "outputId": "b2e3651f-a886-4a1d-f4c9-37e58b71d842"
      },
      "execution_count": 94,
      "outputs": [
        {
          "output_type": "stream",
          "name": "stderr",
          "text": [
            "100%|██████████| 980092/980092 [06:34<00:00, 2487.34it/s]\n"
          ]
        }
      ]
    },
    {
      "cell_type": "markdown",
      "source": [
        "# 4. Tweets similares"
      ],
      "metadata": {
        "id": "bK3bZXvdiKhI"
      }
    },
    {
      "cell_type": "code",
      "source": [
        "def jaccard(a, b):\n",
        "    return len(a.intersection(b)) / len(a.union(b))\n",
        "\n",
        "def get_similar_tweets(id, t):\n",
        "\n",
        "    # Un tweet dado se compara unicamente con los otros tweets con los que \n",
        "    # potencialemente puede ser similar \n",
        "    tweet = clean_tweets.loc[id]['preprocess']\n",
        "    similar = set()\n",
        "    signature1 = signatures[id]\n",
        "\n",
        "    for minhashCode in signature1:\n",
        "        bucket = buckets[minhashCode]\n",
        "        for other_tweet in bucket:\n",
        "            signature2 = signatures[other_tweet]\n",
        "\n",
        "            # No todos los candidatos terminan siendo similares\n",
        "            # Depende del valor de t\n",
        "            jac = jaccard(set(signature1), set(signature2))\n",
        "            if jac > t:\n",
        "                similar.add(other_tweet)\n",
        "    return similar\n",
        "\n",
        "def show_similar_tweets(tweets_id):\n",
        "    max_len = max(len(clean_tweets.loc[id]['screen_name']) for id in tweets_id)\n",
        "    for id in tweets_id:\n",
        "        name = clean_tweets.loc[id]['screen_name']\n",
        "        text = clean_tweets.loc[id]['text']\n",
        "        print(\"@{:<{}} : {}\".format(name, max_len, text))"
      ],
      "metadata": {
        "id": "KeUNCUL-VroV"
      },
      "execution_count": 96,
      "outputs": []
    },
    {
      "cell_type": "code",
      "source": [
        "tweet_data = clean_tweets.loc[1528429011369488384]\n",
        "print(\"@{:<{}} : {}\".format(tweet_data['screen_name'], len(tweet_data['screen_name']), tweet_data['text']))"
      ],
      "metadata": {
        "colab": {
          "base_uri": "https://localhost:8080/"
        },
        "id": "3QfAZdxZzNT4",
        "outputId": "9993edad-f6f2-40de-a3fe-5cf432843cc8"
      },
      "execution_count": 110,
      "outputs": [
        {
          "output_type": "stream",
          "name": "stdout",
          "text": [
            "@dangubbly : @christianpviera Claro, un Chile de ultra izquierda. Despierta Chile !!!! No queremos un país de ultra izquierda para la@ultra izquierda.\n"
          ]
        }
      ]
    },
    {
      "cell_type": "code",
      "source": [
        "t = 0.1\n",
        "tw = get_similar_tweets(1528429011369488384, t)\n",
        "show_similar_tweets(tw)"
      ],
      "metadata": {
        "colab": {
          "base_uri": "https://localhost:8080/"
        },
        "id": "CHB8O5ZNkw-8",
        "outputId": "30c5d956-647e-46ed-8a7e-81e46bcdcf10"
      },
      "execution_count": 112,
      "outputs": [
        {
          "output_type": "stream",
          "name": "stdout",
          "text": [
            "@florbroo        : @baradit Queremos un país sin ustedes payasos.\n",
            "@hnash46850612   : @patriciapolitz @convencioncl @sebastian_gray @lanetacl @mariomarcelc Ahora seremos un país  desarrollado. 🤣🤣🤣\n",
            "@soydelever69    : Porque así lo pedimos y queremos un país Justo y Solidario #LaNuevaConstitucionEsNuestra\n",
            "@Ehitan          : @tere_marinovic Ósea seremos un país fascista?\n",
            "@vpquinones      : @berfontaine \"Queremos un país de iguales\"..... ya.\n",
            "@eljovenmanosde  : @CarolCBown seremos un país bakan😊\n",
            "@Gingleve        : @Jaime_Bassa NO QUEREMOS UN PAÍS INDIGENISTA. SOMOS TODOS CHILENOS.\n",
            "#RechazoElPlurimamarracho\n",
            "@dangubbly       : @christianpviera Claro, un Chile de ultra izquierda. Despierta Chile !!!! No queremos un país de ultra izquierda para la@ultra izquierda.\n",
            "@RaulMichellod   : @IgnacioAchurra Achurra falso falso la mayoría de los chilenos no queremos un país indigenista vamos a rechazar\n",
            "@XJefede_latribu : @berfontaine Y remata \"Queremos un país de iguales\"\n",
            "@osvaldoeirl     : @gdominguez_ La ciudadanía son grupos organizados de ultra izquierda para eternizar una dictadura\n",
            "@robincristi     : @coke_6_ @criordor \"Seremos un país libre\" ..acaso ahora no lo es ?\n"
          ]
        }
      ]
    },
    {
      "cell_type": "code",
      "source": [
        "def get_similar_user(name, t):\n",
        "\n",
        "    # Dos usuarios son similares si tienen un gran numero de tweets similares\n",
        "    user_tweets = clean_tweets[clean_tweets['screen_name'] == name]\n",
        "    similar_user = {}\n",
        "    for tweet_id in user_tweets.index:\n",
        "        # Se obtienen todos los tweets similares a algun tweet del usuario\n",
        "        tweets_similar = get_similar_tweets(tweet_id, t)\n",
        "        for tweet in tweets_similar:\n",
        "            user = clean_tweets.loc[tweet]['screen_name']\n",
        "            if user != name:\n",
        "                similar_user.setdefault(user, 0)\n",
        "                similar_user[user] += 1\n",
        "\n",
        "    # Se seleccion el usuario con el que mayor frecuencia de tweets similares \n",
        "    # haya tenido\n",
        "    max = 0\n",
        "    username = \"\"\n",
        "    for user in similar_user:\n",
        "        if similar_user[user] > max:\n",
        "            max = similar_user[user]\n",
        "            username = user\n",
        "    return username\n"
      ],
      "metadata": {
        "id": "IX-AijHvlD6G"
      },
      "execution_count": 119,
      "outputs": []
    },
    {
      "cell_type": "code",
      "source": [
        "t = 0.1\n",
        "get_similar_user('ConySchon', t)"
      ],
      "metadata": {
        "colab": {
          "base_uri": "https://localhost:8080/",
          "height": 35
        },
        "id": "sGVDI_t9nz5v",
        "outputId": "180f63e9-72ea-4568-e095-5a0552ec24c1"
      },
      "execution_count": 120,
      "outputs": [
        {
          "output_type": "execute_result",
          "data": {
            "text/plain": [
              "'AbrigoCD'"
            ],
            "application/vnd.google.colaboratory.intrinsic+json": {
              "type": "string"
            }
          },
          "metadata": {},
          "execution_count": 120
        }
      ]
    },
    {
      "cell_type": "code",
      "source": [
        "clean_tweets[clean_tweets['screen_name'] == 'ConySchon']"
      ],
      "metadata": {
        "colab": {
          "base_uri": "https://localhost:8080/",
          "height": 269
        },
        "id": "I-DXjcCcuUTr",
        "outputId": "7a82b77f-a287-45f5-8248-d5d2bec99beb"
      },
      "execution_count": 121,
      "outputs": [
        {
          "output_type": "execute_result",
          "data": {
            "text/plain": [
              "                    screen_name  \\\n",
              "id                                \n",
              "1513648499417567235   ConySchon   \n",
              "1516574419866591234   ConySchon   \n",
              "1519440649971539969   ConySchon   \n",
              "1517310579018510341   ConySchon   \n",
              "1517310447518683136   ConySchon   \n",
              "1519443350226620419   ConySchon   \n",
              "\n",
              "                                                                  text  \\\n",
              "id                                                                       \n",
              "1513648499417567235  Aquí pueden ver el articulado completo :) http...   \n",
              "1516574419866591234  Aquí el articulado completo🙌🏼 https://t.co/986...   \n",
              "1519440649971539969  Aclaro que equivoque en mi votación. Aquí el o...   \n",
              "1517310579018510341  En la nueva constitución: \\n\\n2. Hay derecho h...   \n",
              "1517310447518683136  En la nueva constitución: \\n\\n1. Hay derecho a...   \n",
              "1519443350226620419  Aclaro que me equivoque en mi votación. Aquí e...   \n",
              "\n",
              "                                                            preprocess  \n",
              "id                                                                      \n",
              "1513648499417567235         aquí pueden ver el articulado completo :)   \n",
              "1516574419866591234                     aquí el articulado completo🙌🏼   \n",
              "1519440649971539969  aclaro que equivoque en mi votación. aquí el o...  \n",
              "1517310579018510341  en la nueva constitución: 2. hay derecho human...  \n",
              "1517310447518683136  en la nueva constitución: 1. hay derecho a la ...  \n",
              "1519443350226620419  aclaro que me equivoque en mi votación. aquí e...  "
            ],
            "text/html": [
              "\n",
              "  <div id=\"df-c423381f-cf09-4d9d-985c-5912f8a38f09\">\n",
              "    <div class=\"colab-df-container\">\n",
              "      <div>\n",
              "<style scoped>\n",
              "    .dataframe tbody tr th:only-of-type {\n",
              "        vertical-align: middle;\n",
              "    }\n",
              "\n",
              "    .dataframe tbody tr th {\n",
              "        vertical-align: top;\n",
              "    }\n",
              "\n",
              "    .dataframe thead th {\n",
              "        text-align: right;\n",
              "    }\n",
              "</style>\n",
              "<table border=\"1\" class=\"dataframe\">\n",
              "  <thead>\n",
              "    <tr style=\"text-align: right;\">\n",
              "      <th></th>\n",
              "      <th>screen_name</th>\n",
              "      <th>text</th>\n",
              "      <th>preprocess</th>\n",
              "    </tr>\n",
              "    <tr>\n",
              "      <th>id</th>\n",
              "      <th></th>\n",
              "      <th></th>\n",
              "      <th></th>\n",
              "    </tr>\n",
              "  </thead>\n",
              "  <tbody>\n",
              "    <tr>\n",
              "      <th>1513648499417567235</th>\n",
              "      <td>ConySchon</td>\n",
              "      <td>Aquí pueden ver el articulado completo :) http...</td>\n",
              "      <td>aquí pueden ver el articulado completo :)</td>\n",
              "    </tr>\n",
              "    <tr>\n",
              "      <th>1516574419866591234</th>\n",
              "      <td>ConySchon</td>\n",
              "      <td>Aquí el articulado completo🙌🏼 https://t.co/986...</td>\n",
              "      <td>aquí el articulado completo🙌🏼</td>\n",
              "    </tr>\n",
              "    <tr>\n",
              "      <th>1519440649971539969</th>\n",
              "      <td>ConySchon</td>\n",
              "      <td>Aclaro que equivoque en mi votación. Aquí el o...</td>\n",
              "      <td>aclaro que equivoque en mi votación. aquí el o...</td>\n",
              "    </tr>\n",
              "    <tr>\n",
              "      <th>1517310579018510341</th>\n",
              "      <td>ConySchon</td>\n",
              "      <td>En la nueva constitución: \\n\\n2. Hay derecho h...</td>\n",
              "      <td>en la nueva constitución: 2. hay derecho human...</td>\n",
              "    </tr>\n",
              "    <tr>\n",
              "      <th>1517310447518683136</th>\n",
              "      <td>ConySchon</td>\n",
              "      <td>En la nueva constitución: \\n\\n1. Hay derecho a...</td>\n",
              "      <td>en la nueva constitución: 1. hay derecho a la ...</td>\n",
              "    </tr>\n",
              "    <tr>\n",
              "      <th>1519443350226620419</th>\n",
              "      <td>ConySchon</td>\n",
              "      <td>Aclaro que me equivoque en mi votación. Aquí e...</td>\n",
              "      <td>aclaro que me equivoque en mi votación. aquí e...</td>\n",
              "    </tr>\n",
              "  </tbody>\n",
              "</table>\n",
              "</div>\n",
              "      <button class=\"colab-df-convert\" onclick=\"convertToInteractive('df-c423381f-cf09-4d9d-985c-5912f8a38f09')\"\n",
              "              title=\"Convert this dataframe to an interactive table.\"\n",
              "              style=\"display:none;\">\n",
              "        \n",
              "  <svg xmlns=\"http://www.w3.org/2000/svg\" height=\"24px\"viewBox=\"0 0 24 24\"\n",
              "       width=\"24px\">\n",
              "    <path d=\"M0 0h24v24H0V0z\" fill=\"none\"/>\n",
              "    <path d=\"M18.56 5.44l.94 2.06.94-2.06 2.06-.94-2.06-.94-.94-2.06-.94 2.06-2.06.94zm-11 1L8.5 8.5l.94-2.06 2.06-.94-2.06-.94L8.5 2.5l-.94 2.06-2.06.94zm10 10l.94 2.06.94-2.06 2.06-.94-2.06-.94-.94-2.06-.94 2.06-2.06.94z\"/><path d=\"M17.41 7.96l-1.37-1.37c-.4-.4-.92-.59-1.43-.59-.52 0-1.04.2-1.43.59L10.3 9.45l-7.72 7.72c-.78.78-.78 2.05 0 2.83L4 21.41c.39.39.9.59 1.41.59.51 0 1.02-.2 1.41-.59l7.78-7.78 2.81-2.81c.8-.78.8-2.07 0-2.86zM5.41 20L4 18.59l7.72-7.72 1.47 1.35L5.41 20z\"/>\n",
              "  </svg>\n",
              "      </button>\n",
              "      \n",
              "  <style>\n",
              "    .colab-df-container {\n",
              "      display:flex;\n",
              "      flex-wrap:wrap;\n",
              "      gap: 12px;\n",
              "    }\n",
              "\n",
              "    .colab-df-convert {\n",
              "      background-color: #E8F0FE;\n",
              "      border: none;\n",
              "      border-radius: 50%;\n",
              "      cursor: pointer;\n",
              "      display: none;\n",
              "      fill: #1967D2;\n",
              "      height: 32px;\n",
              "      padding: 0 0 0 0;\n",
              "      width: 32px;\n",
              "    }\n",
              "\n",
              "    .colab-df-convert:hover {\n",
              "      background-color: #E2EBFA;\n",
              "      box-shadow: 0px 1px 2px rgba(60, 64, 67, 0.3), 0px 1px 3px 1px rgba(60, 64, 67, 0.15);\n",
              "      fill: #174EA6;\n",
              "    }\n",
              "\n",
              "    [theme=dark] .colab-df-convert {\n",
              "      background-color: #3B4455;\n",
              "      fill: #D2E3FC;\n",
              "    }\n",
              "\n",
              "    [theme=dark] .colab-df-convert:hover {\n",
              "      background-color: #434B5C;\n",
              "      box-shadow: 0px 1px 3px 1px rgba(0, 0, 0, 0.15);\n",
              "      filter: drop-shadow(0px 1px 2px rgba(0, 0, 0, 0.3));\n",
              "      fill: #FFFFFF;\n",
              "    }\n",
              "  </style>\n",
              "\n",
              "      <script>\n",
              "        const buttonEl =\n",
              "          document.querySelector('#df-c423381f-cf09-4d9d-985c-5912f8a38f09 button.colab-df-convert');\n",
              "        buttonEl.style.display =\n",
              "          google.colab.kernel.accessAllowed ? 'block' : 'none';\n",
              "\n",
              "        async function convertToInteractive(key) {\n",
              "          const element = document.querySelector('#df-c423381f-cf09-4d9d-985c-5912f8a38f09');\n",
              "          const dataTable =\n",
              "            await google.colab.kernel.invokeFunction('convertToInteractive',\n",
              "                                                     [key], {});\n",
              "          if (!dataTable) return;\n",
              "\n",
              "          const docLinkHtml = 'Like what you see? Visit the ' +\n",
              "            '<a target=\"_blank\" href=https://colab.research.google.com/notebooks/data_table.ipynb>data table notebook</a>'\n",
              "            + ' to learn more about interactive tables.';\n",
              "          element.innerHTML = '';\n",
              "          dataTable['output_type'] = 'display_data';\n",
              "          await google.colab.output.renderOutput(dataTable, element);\n",
              "          const docLink = document.createElement('div');\n",
              "          docLink.innerHTML = docLinkHtml;\n",
              "          element.appendChild(docLink);\n",
              "        }\n",
              "      </script>\n",
              "    </div>\n",
              "  </div>\n",
              "  "
            ]
          },
          "metadata": {},
          "execution_count": 121
        }
      ]
    },
    {
      "cell_type": "code",
      "source": [
        "clean_tweets[clean_tweets['screen_name'] == 'AbrigoCD']"
      ],
      "metadata": {
        "colab": {
          "base_uri": "https://localhost:8080/",
          "height": 455
        },
        "id": "FQZAPP92uca5",
        "outputId": "f61f233b-80dd-428c-8502-622f08c57157"
      },
      "execution_count": 122,
      "outputs": [
        {
          "output_type": "execute_result",
          "data": {
            "text/plain": [
              "                    screen_name  \\\n",
              "id                                \n",
              "1513734937618399234    AbrigoCD   \n",
              "1529914833952710656    AbrigoCD   \n",
              "1529821986909696002    AbrigoCD   \n",
              "1529820747455004673    AbrigoCD   \n",
              "1510994342009196551    AbrigoCD   \n",
              "...                         ...   \n",
              "1542251684021252098    AbrigoCD   \n",
              "1542223833704300546    AbrigoCD   \n",
              "1542225837667368964    AbrigoCD   \n",
              "1526284326324690944    AbrigoCD   \n",
              "1521613125950210048    AbrigoCD   \n",
              "\n",
              "                                                                  text  \\\n",
              "id                                                                       \n",
              "1513734937618399234  @derechaazul @RojasDcv @CBorgono @HarryJurgens...   \n",
              "1529914833952710656  @EconomistaFlait @mank5_ @fernando_atria Ponte...   \n",
              "1529821986909696002  @FernaSotoV @adrianovaroli @fernando_atria Y f...   \n",
              "1529820747455004673  @FernaSotoV @adrianovaroli @fernando_atria Tie...   \n",
              "1510994342009196551  @yikinloo @Molinas1321 @RenatoGarinG Ya le pid...   \n",
              "...                                                                ...   \n",
              "1542251684021252098  @DonWeasDoctor @ELMISMOKUFO @nmaureir @fernand...   \n",
              "1542223833704300546  @incorrecto123 @jorgemiresmunoz @fernando_atri...   \n",
              "1542225837667368964  @incorrecto123 @jorgemiresmunoz @fernando_atri...   \n",
              "1526284326324690944  @mfigueroabrito @nublado360 @lionofoctober @Al...   \n",
              "1521613125950210048  @CarlosTalamilla @AmpueroAdriana En realidad e...   \n",
              "\n",
              "                                                            preprocess  \n",
              "id                                                                      \n",
              "1513734937618399234       en el que se defina. no sé en qué le afecta.  \n",
              "1529914833952710656                                     ponte serio ql  \n",
              "1529821986909696002  y fueron rechazadas.se presentaron de nuevo ah...  \n",
              "1529820747455004673  tiene link pa leerlo? no lo encuentro por ning...  \n",
              "1510994342009196551                  ya le pidieron disculpas públicas  \n",
              "...                                                                ...  \n",
              "1542251684021252098  no hace ninguna distinción en cuanto a qué der...  \n",
              "1542223833704300546  en ninguna parte está consagrado el derecho de...  \n",
              "1542225837667368964  exacto. hay gente que no es dueña de la casa e...  \n",
              "1526284326324690944                                  y de la anterior?  \n",
              "1521613125950210048  en realidad es una prueba de que la gente de d...  \n",
              "\n",
              "[269 rows x 3 columns]"
            ],
            "text/html": [
              "\n",
              "  <div id=\"df-bc49a9f0-f886-48e4-8cbf-08c820019014\">\n",
              "    <div class=\"colab-df-container\">\n",
              "      <div>\n",
              "<style scoped>\n",
              "    .dataframe tbody tr th:only-of-type {\n",
              "        vertical-align: middle;\n",
              "    }\n",
              "\n",
              "    .dataframe tbody tr th {\n",
              "        vertical-align: top;\n",
              "    }\n",
              "\n",
              "    .dataframe thead th {\n",
              "        text-align: right;\n",
              "    }\n",
              "</style>\n",
              "<table border=\"1\" class=\"dataframe\">\n",
              "  <thead>\n",
              "    <tr style=\"text-align: right;\">\n",
              "      <th></th>\n",
              "      <th>screen_name</th>\n",
              "      <th>text</th>\n",
              "      <th>preprocess</th>\n",
              "    </tr>\n",
              "    <tr>\n",
              "      <th>id</th>\n",
              "      <th></th>\n",
              "      <th></th>\n",
              "      <th></th>\n",
              "    </tr>\n",
              "  </thead>\n",
              "  <tbody>\n",
              "    <tr>\n",
              "      <th>1513734937618399234</th>\n",
              "      <td>AbrigoCD</td>\n",
              "      <td>@derechaazul @RojasDcv @CBorgono @HarryJurgens...</td>\n",
              "      <td>en el que se defina. no sé en qué le afecta.</td>\n",
              "    </tr>\n",
              "    <tr>\n",
              "      <th>1529914833952710656</th>\n",
              "      <td>AbrigoCD</td>\n",
              "      <td>@EconomistaFlait @mank5_ @fernando_atria Ponte...</td>\n",
              "      <td>ponte serio ql</td>\n",
              "    </tr>\n",
              "    <tr>\n",
              "      <th>1529821986909696002</th>\n",
              "      <td>AbrigoCD</td>\n",
              "      <td>@FernaSotoV @adrianovaroli @fernando_atria Y f...</td>\n",
              "      <td>y fueron rechazadas.se presentaron de nuevo ah...</td>\n",
              "    </tr>\n",
              "    <tr>\n",
              "      <th>1529820747455004673</th>\n",
              "      <td>AbrigoCD</td>\n",
              "      <td>@FernaSotoV @adrianovaroli @fernando_atria Tie...</td>\n",
              "      <td>tiene link pa leerlo? no lo encuentro por ning...</td>\n",
              "    </tr>\n",
              "    <tr>\n",
              "      <th>1510994342009196551</th>\n",
              "      <td>AbrigoCD</td>\n",
              "      <td>@yikinloo @Molinas1321 @RenatoGarinG Ya le pid...</td>\n",
              "      <td>ya le pidieron disculpas públicas</td>\n",
              "    </tr>\n",
              "    <tr>\n",
              "      <th>...</th>\n",
              "      <td>...</td>\n",
              "      <td>...</td>\n",
              "      <td>...</td>\n",
              "    </tr>\n",
              "    <tr>\n",
              "      <th>1542251684021252098</th>\n",
              "      <td>AbrigoCD</td>\n",
              "      <td>@DonWeasDoctor @ELMISMOKUFO @nmaureir @fernand...</td>\n",
              "      <td>no hace ninguna distinción en cuanto a qué der...</td>\n",
              "    </tr>\n",
              "    <tr>\n",
              "      <th>1542223833704300546</th>\n",
              "      <td>AbrigoCD</td>\n",
              "      <td>@incorrecto123 @jorgemiresmunoz @fernando_atri...</td>\n",
              "      <td>en ninguna parte está consagrado el derecho de...</td>\n",
              "    </tr>\n",
              "    <tr>\n",
              "      <th>1542225837667368964</th>\n",
              "      <td>AbrigoCD</td>\n",
              "      <td>@incorrecto123 @jorgemiresmunoz @fernando_atri...</td>\n",
              "      <td>exacto. hay gente que no es dueña de la casa e...</td>\n",
              "    </tr>\n",
              "    <tr>\n",
              "      <th>1526284326324690944</th>\n",
              "      <td>AbrigoCD</td>\n",
              "      <td>@mfigueroabrito @nublado360 @lionofoctober @Al...</td>\n",
              "      <td>y de la anterior?</td>\n",
              "    </tr>\n",
              "    <tr>\n",
              "      <th>1521613125950210048</th>\n",
              "      <td>AbrigoCD</td>\n",
              "      <td>@CarlosTalamilla @AmpueroAdriana En realidad e...</td>\n",
              "      <td>en realidad es una prueba de que la gente de d...</td>\n",
              "    </tr>\n",
              "  </tbody>\n",
              "</table>\n",
              "<p>269 rows × 3 columns</p>\n",
              "</div>\n",
              "      <button class=\"colab-df-convert\" onclick=\"convertToInteractive('df-bc49a9f0-f886-48e4-8cbf-08c820019014')\"\n",
              "              title=\"Convert this dataframe to an interactive table.\"\n",
              "              style=\"display:none;\">\n",
              "        \n",
              "  <svg xmlns=\"http://www.w3.org/2000/svg\" height=\"24px\"viewBox=\"0 0 24 24\"\n",
              "       width=\"24px\">\n",
              "    <path d=\"M0 0h24v24H0V0z\" fill=\"none\"/>\n",
              "    <path d=\"M18.56 5.44l.94 2.06.94-2.06 2.06-.94-2.06-.94-.94-2.06-.94 2.06-2.06.94zm-11 1L8.5 8.5l.94-2.06 2.06-.94-2.06-.94L8.5 2.5l-.94 2.06-2.06.94zm10 10l.94 2.06.94-2.06 2.06-.94-2.06-.94-.94-2.06-.94 2.06-2.06.94z\"/><path d=\"M17.41 7.96l-1.37-1.37c-.4-.4-.92-.59-1.43-.59-.52 0-1.04.2-1.43.59L10.3 9.45l-7.72 7.72c-.78.78-.78 2.05 0 2.83L4 21.41c.39.39.9.59 1.41.59.51 0 1.02-.2 1.41-.59l7.78-7.78 2.81-2.81c.8-.78.8-2.07 0-2.86zM5.41 20L4 18.59l7.72-7.72 1.47 1.35L5.41 20z\"/>\n",
              "  </svg>\n",
              "      </button>\n",
              "      \n",
              "  <style>\n",
              "    .colab-df-container {\n",
              "      display:flex;\n",
              "      flex-wrap:wrap;\n",
              "      gap: 12px;\n",
              "    }\n",
              "\n",
              "    .colab-df-convert {\n",
              "      background-color: #E8F0FE;\n",
              "      border: none;\n",
              "      border-radius: 50%;\n",
              "      cursor: pointer;\n",
              "      display: none;\n",
              "      fill: #1967D2;\n",
              "      height: 32px;\n",
              "      padding: 0 0 0 0;\n",
              "      width: 32px;\n",
              "    }\n",
              "\n",
              "    .colab-df-convert:hover {\n",
              "      background-color: #E2EBFA;\n",
              "      box-shadow: 0px 1px 2px rgba(60, 64, 67, 0.3), 0px 1px 3px 1px rgba(60, 64, 67, 0.15);\n",
              "      fill: #174EA6;\n",
              "    }\n",
              "\n",
              "    [theme=dark] .colab-df-convert {\n",
              "      background-color: #3B4455;\n",
              "      fill: #D2E3FC;\n",
              "    }\n",
              "\n",
              "    [theme=dark] .colab-df-convert:hover {\n",
              "      background-color: #434B5C;\n",
              "      box-shadow: 0px 1px 3px 1px rgba(0, 0, 0, 0.15);\n",
              "      filter: drop-shadow(0px 1px 2px rgba(0, 0, 0, 0.3));\n",
              "      fill: #FFFFFF;\n",
              "    }\n",
              "  </style>\n",
              "\n",
              "      <script>\n",
              "        const buttonEl =\n",
              "          document.querySelector('#df-bc49a9f0-f886-48e4-8cbf-08c820019014 button.colab-df-convert');\n",
              "        buttonEl.style.display =\n",
              "          google.colab.kernel.accessAllowed ? 'block' : 'none';\n",
              "\n",
              "        async function convertToInteractive(key) {\n",
              "          const element = document.querySelector('#df-bc49a9f0-f886-48e4-8cbf-08c820019014');\n",
              "          const dataTable =\n",
              "            await google.colab.kernel.invokeFunction('convertToInteractive',\n",
              "                                                     [key], {});\n",
              "          if (!dataTable) return;\n",
              "\n",
              "          const docLinkHtml = 'Like what you see? Visit the ' +\n",
              "            '<a target=\"_blank\" href=https://colab.research.google.com/notebooks/data_table.ipynb>data table notebook</a>'\n",
              "            + ' to learn more about interactive tables.';\n",
              "          element.innerHTML = '';\n",
              "          dataTable['output_type'] = 'display_data';\n",
              "          await google.colab.output.renderOutput(dataTable, element);\n",
              "          const docLink = document.createElement('div');\n",
              "          docLink.innerHTML = docLinkHtml;\n",
              "          element.appendChild(docLink);\n",
              "        }\n",
              "      </script>\n",
              "    </div>\n",
              "  </div>\n",
              "  "
            ]
          },
          "metadata": {},
          "execution_count": 122
        }
      ]
    },
    {
      "cell_type": "code",
      "source": [
        "t = 0.1\n",
        "get_similar_user('AbrigoCD', t)"
      ],
      "metadata": {
        "colab": {
          "base_uri": "https://localhost:8080/",
          "height": 35
        },
        "id": "jrIXjO-VsQGd",
        "outputId": "57dedc6a-0b2b-4322-f1eb-739829c919ee"
      },
      "execution_count": 124,
      "outputs": [
        {
          "output_type": "execute_result",
          "data": {
            "text/plain": [
              "'matiasfortuno'"
            ],
            "application/vnd.google.colaboratory.intrinsic+json": {
              "type": "string"
            }
          },
          "metadata": {},
          "execution_count": 124
        }
      ]
    },
    {
      "cell_type": "code",
      "source": [
        "clean_tweets[clean_tweets['screen_name'] == 'matiasfortuno']"
      ],
      "metadata": {
        "colab": {
          "base_uri": "https://localhost:8080/",
          "height": 455
        },
        "id": "EPmnvwMLjLxM",
        "outputId": "293b1eaf-bb9f-43aa-ddca-879e4b4a74d2"
      },
      "execution_count": 126,
      "outputs": [
        {
          "output_type": "execute_result",
          "data": {
            "text/plain": [
              "                       screen_name  \\\n",
              "id                                   \n",
              "1513291319753515010  matiasfortuno   \n",
              "1509702551217782789  matiasfortuno   \n",
              "1514054514910838785  matiasfortuno   \n",
              "1511394060451336192  matiasfortuno   \n",
              "1510652496498339846  matiasfortuno   \n",
              "...                            ...   \n",
              "1541279138635563009  matiasfortuno   \n",
              "1541297922079424512  matiasfortuno   \n",
              "1541516733499965443  matiasfortuno   \n",
              "1541776783690833923  matiasfortuno   \n",
              "1526277658983669760  matiasfortuno   \n",
              "\n",
              "                                                                  text  \\\n",
              "id                                                                       \n",
              "1513291319753515010  @patriciapolitz @convencioncl @sebastian_gray ...   \n",
              "1509702551217782789         @patriciapolitz \"En picado\", querrá decir.   \n",
              "1514054514910838785  @bdelamaza ¿Van a cambiar todas las posturas r...   \n",
              "1511394060451336192  @24HorasTVN @patriciapolitz Muy bien dicho, si...   \n",
              "1510652496498339846  @patriciapolitz @claudiaheiss @latercera \"Y po...   \n",
              "...                                                                ...   \n",
              "1541279138635563009  @Andres_ArvS @fernando_atria Eso explíqueselos...   \n",
              "1541297922079424512  @Andres_ArvS @fernando_atria En resumen, ¿está...   \n",
              "1541516733499965443           @Andres_ArvS @fernando_atria Un abrazo!!   \n",
              "1541776783690833923                     @Jaime_Bassa Imagen histórica.   \n",
              "1526277658983669760  @InfinitaFM @SquellaAgustin Don Agustín, dudo ...   \n",
              "\n",
              "                                                            preprocess  \n",
              "id                                                                      \n",
              "1513291319753515010                      su información, es fake news.  \n",
              "1509702551217782789                         \"en picado\", querrá decir.  \n",
              "1514054514910838785  ¿van a cambiar todas las posturas radicales ya...  \n",
              "1511394060451336192                          muy bien dicho, siga así.  \n",
              "1510652496498339846  \"y por eso es que nos pasamos x la r las propu...  \n",
              "...                                                                ...  \n",
              "1541279138635563009  eso explíqueselos a sus convencionales. por qu...  \n",
              "1541297922079424512  en resumen, ¿está de acuerdo en que, bajo la n...  \n",
              "1541516733499965443                                        un abrazo!!  \n",
              "1541776783690833923                                  imagen histórica.  \n",
              "1526277658983669760  don agustín, dudo que la comisión de armonizac...  \n",
              "\n",
              "[534 rows x 3 columns]"
            ],
            "text/html": [
              "\n",
              "  <div id=\"df-09605dad-08a0-46eb-bb6e-9666c93099fc\">\n",
              "    <div class=\"colab-df-container\">\n",
              "      <div>\n",
              "<style scoped>\n",
              "    .dataframe tbody tr th:only-of-type {\n",
              "        vertical-align: middle;\n",
              "    }\n",
              "\n",
              "    .dataframe tbody tr th {\n",
              "        vertical-align: top;\n",
              "    }\n",
              "\n",
              "    .dataframe thead th {\n",
              "        text-align: right;\n",
              "    }\n",
              "</style>\n",
              "<table border=\"1\" class=\"dataframe\">\n",
              "  <thead>\n",
              "    <tr style=\"text-align: right;\">\n",
              "      <th></th>\n",
              "      <th>screen_name</th>\n",
              "      <th>text</th>\n",
              "      <th>preprocess</th>\n",
              "    </tr>\n",
              "    <tr>\n",
              "      <th>id</th>\n",
              "      <th></th>\n",
              "      <th></th>\n",
              "      <th></th>\n",
              "    </tr>\n",
              "  </thead>\n",
              "  <tbody>\n",
              "    <tr>\n",
              "      <th>1513291319753515010</th>\n",
              "      <td>matiasfortuno</td>\n",
              "      <td>@patriciapolitz @convencioncl @sebastian_gray ...</td>\n",
              "      <td>su información, es fake news.</td>\n",
              "    </tr>\n",
              "    <tr>\n",
              "      <th>1509702551217782789</th>\n",
              "      <td>matiasfortuno</td>\n",
              "      <td>@patriciapolitz \"En picado\", querrá decir.</td>\n",
              "      <td>\"en picado\", querrá decir.</td>\n",
              "    </tr>\n",
              "    <tr>\n",
              "      <th>1514054514910838785</th>\n",
              "      <td>matiasfortuno</td>\n",
              "      <td>@bdelamaza ¿Van a cambiar todas las posturas r...</td>\n",
              "      <td>¿van a cambiar todas las posturas radicales ya...</td>\n",
              "    </tr>\n",
              "    <tr>\n",
              "      <th>1511394060451336192</th>\n",
              "      <td>matiasfortuno</td>\n",
              "      <td>@24HorasTVN @patriciapolitz Muy bien dicho, si...</td>\n",
              "      <td>muy bien dicho, siga así.</td>\n",
              "    </tr>\n",
              "    <tr>\n",
              "      <th>1510652496498339846</th>\n",
              "      <td>matiasfortuno</td>\n",
              "      <td>@patriciapolitz @claudiaheiss @latercera \"Y po...</td>\n",
              "      <td>\"y por eso es que nos pasamos x la r las propu...</td>\n",
              "    </tr>\n",
              "    <tr>\n",
              "      <th>...</th>\n",
              "      <td>...</td>\n",
              "      <td>...</td>\n",
              "      <td>...</td>\n",
              "    </tr>\n",
              "    <tr>\n",
              "      <th>1541279138635563009</th>\n",
              "      <td>matiasfortuno</td>\n",
              "      <td>@Andres_ArvS @fernando_atria Eso explíqueselos...</td>\n",
              "      <td>eso explíqueselos a sus convencionales. por qu...</td>\n",
              "    </tr>\n",
              "    <tr>\n",
              "      <th>1541297922079424512</th>\n",
              "      <td>matiasfortuno</td>\n",
              "      <td>@Andres_ArvS @fernando_atria En resumen, ¿está...</td>\n",
              "      <td>en resumen, ¿está de acuerdo en que, bajo la n...</td>\n",
              "    </tr>\n",
              "    <tr>\n",
              "      <th>1541516733499965443</th>\n",
              "      <td>matiasfortuno</td>\n",
              "      <td>@Andres_ArvS @fernando_atria Un abrazo!!</td>\n",
              "      <td>un abrazo!!</td>\n",
              "    </tr>\n",
              "    <tr>\n",
              "      <th>1541776783690833923</th>\n",
              "      <td>matiasfortuno</td>\n",
              "      <td>@Jaime_Bassa Imagen histórica.</td>\n",
              "      <td>imagen histórica.</td>\n",
              "    </tr>\n",
              "    <tr>\n",
              "      <th>1526277658983669760</th>\n",
              "      <td>matiasfortuno</td>\n",
              "      <td>@InfinitaFM @SquellaAgustin Don Agustín, dudo ...</td>\n",
              "      <td>don agustín, dudo que la comisión de armonizac...</td>\n",
              "    </tr>\n",
              "  </tbody>\n",
              "</table>\n",
              "<p>534 rows × 3 columns</p>\n",
              "</div>\n",
              "      <button class=\"colab-df-convert\" onclick=\"convertToInteractive('df-09605dad-08a0-46eb-bb6e-9666c93099fc')\"\n",
              "              title=\"Convert this dataframe to an interactive table.\"\n",
              "              style=\"display:none;\">\n",
              "        \n",
              "  <svg xmlns=\"http://www.w3.org/2000/svg\" height=\"24px\"viewBox=\"0 0 24 24\"\n",
              "       width=\"24px\">\n",
              "    <path d=\"M0 0h24v24H0V0z\" fill=\"none\"/>\n",
              "    <path d=\"M18.56 5.44l.94 2.06.94-2.06 2.06-.94-2.06-.94-.94-2.06-.94 2.06-2.06.94zm-11 1L8.5 8.5l.94-2.06 2.06-.94-2.06-.94L8.5 2.5l-.94 2.06-2.06.94zm10 10l.94 2.06.94-2.06 2.06-.94-2.06-.94-.94-2.06-.94 2.06-2.06.94z\"/><path d=\"M17.41 7.96l-1.37-1.37c-.4-.4-.92-.59-1.43-.59-.52 0-1.04.2-1.43.59L10.3 9.45l-7.72 7.72c-.78.78-.78 2.05 0 2.83L4 21.41c.39.39.9.59 1.41.59.51 0 1.02-.2 1.41-.59l7.78-7.78 2.81-2.81c.8-.78.8-2.07 0-2.86zM5.41 20L4 18.59l7.72-7.72 1.47 1.35L5.41 20z\"/>\n",
              "  </svg>\n",
              "      </button>\n",
              "      \n",
              "  <style>\n",
              "    .colab-df-container {\n",
              "      display:flex;\n",
              "      flex-wrap:wrap;\n",
              "      gap: 12px;\n",
              "    }\n",
              "\n",
              "    .colab-df-convert {\n",
              "      background-color: #E8F0FE;\n",
              "      border: none;\n",
              "      border-radius: 50%;\n",
              "      cursor: pointer;\n",
              "      display: none;\n",
              "      fill: #1967D2;\n",
              "      height: 32px;\n",
              "      padding: 0 0 0 0;\n",
              "      width: 32px;\n",
              "    }\n",
              "\n",
              "    .colab-df-convert:hover {\n",
              "      background-color: #E2EBFA;\n",
              "      box-shadow: 0px 1px 2px rgba(60, 64, 67, 0.3), 0px 1px 3px 1px rgba(60, 64, 67, 0.15);\n",
              "      fill: #174EA6;\n",
              "    }\n",
              "\n",
              "    [theme=dark] .colab-df-convert {\n",
              "      background-color: #3B4455;\n",
              "      fill: #D2E3FC;\n",
              "    }\n",
              "\n",
              "    [theme=dark] .colab-df-convert:hover {\n",
              "      background-color: #434B5C;\n",
              "      box-shadow: 0px 1px 3px 1px rgba(0, 0, 0, 0.15);\n",
              "      filter: drop-shadow(0px 1px 2px rgba(0, 0, 0, 0.3));\n",
              "      fill: #FFFFFF;\n",
              "    }\n",
              "  </style>\n",
              "\n",
              "      <script>\n",
              "        const buttonEl =\n",
              "          document.querySelector('#df-09605dad-08a0-46eb-bb6e-9666c93099fc button.colab-df-convert');\n",
              "        buttonEl.style.display =\n",
              "          google.colab.kernel.accessAllowed ? 'block' : 'none';\n",
              "\n",
              "        async function convertToInteractive(key) {\n",
              "          const element = document.querySelector('#df-09605dad-08a0-46eb-bb6e-9666c93099fc');\n",
              "          const dataTable =\n",
              "            await google.colab.kernel.invokeFunction('convertToInteractive',\n",
              "                                                     [key], {});\n",
              "          if (!dataTable) return;\n",
              "\n",
              "          const docLinkHtml = 'Like what you see? Visit the ' +\n",
              "            '<a target=\"_blank\" href=https://colab.research.google.com/notebooks/data_table.ipynb>data table notebook</a>'\n",
              "            + ' to learn more about interactive tables.';\n",
              "          element.innerHTML = '';\n",
              "          dataTable['output_type'] = 'display_data';\n",
              "          await google.colab.output.renderOutput(dataTable, element);\n",
              "          const docLink = document.createElement('div');\n",
              "          docLink.innerHTML = docLinkHtml;\n",
              "          element.appendChild(docLink);\n",
              "        }\n",
              "      </script>\n",
              "    </div>\n",
              "  </div>\n",
              "  "
            ]
          },
          "metadata": {},
          "execution_count": 126
        }
      ]
    },
    {
      "cell_type": "markdown",
      "source": [
        "# Referencias\n",
        "\n",
        "La solución propuesta toma como referencia:\n",
        "- [Locality Sensitive Hashing (LSH): The Illustrated Guide](https://www.pinecone.io/learn/locality-sensitive-hashing/)\n",
        "- [Actividad 6 LocallySensitiveHashing](https://github.com/IIC2440/Syllabus-2023-1/tree/main/Actividades/06%20-%20LocallySensitiveHashing)"
      ],
      "metadata": {
        "id": "uS5-s6PXkB15"
      }
    }
  ]
}